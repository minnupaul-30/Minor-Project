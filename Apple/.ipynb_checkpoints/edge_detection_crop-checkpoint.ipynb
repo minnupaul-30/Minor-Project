{
 "cells": [
  {
   "cell_type": "code",
   "execution_count": 11,
   "metadata": {},
   "outputs": [],
   "source": [
    "import cv2\n",
    "import matplotlib.pyplot as plt\n",
    "import numpy as np\n",
    "import os"
   ]
  },
  {
   "cell_type": "code",
   "execution_count": 64,
   "metadata": {},
   "outputs": [],
   "source": [
    "def cut_border(filepath, filename):\n",
    "    \n",
    "    img = cv2.imread(filepath, 0)\n",
    "    ret2, th2 = cv2.threshold(img, 0, 255, cv2.THRESH_BINARY + cv2.THRESH_OTSU)\n",
    "    #kernel = np.ones((3,3), np.uint8)\n",
    "    #closing = cv2.morphologyEx(th2, cv2.MORPH_CLOSE, kernel)\n",
    "    #kernel = np.ones((2,3), np.uint8)\n",
    "    #gray = cv2.dilate(closing, kernel, iterations=1)\n",
    "\n",
    "    retval, thresh_gray= cv2.threshold(th2,100,255, cv2.THRESH_BINARY)\n",
    "\n",
    "    points = np.argwhere(thresh_gray==0) # find where the black pixels are\n",
    "    points = np.fliplr(points) # store them in x,y coordinates instead of row,col indices\n",
    "    x, y, w, h = cv2.boundingRect(points) # create a rectangle around those points\n",
    "    crop = th2[y:y+h, x:x+w] # create a cropped region of the gray image\n",
    "    retval, thresh_crop = cv2.threshold(crop, thresh=200, maxval=255, type=cv2.THRESH_BINARY)\n",
    "    #filename = \"CAPTCHAS_final/\" + filename\n",
    "    #cv2.imwrite(filename, thresh_crop)\n",
    "    return thresh_crop"
   ]
  },
  {
   "cell_type": "markdown",
   "metadata": {},
   "source": [
    "CATEGORIES = [\"5\"]\n",
    "DATADIR = \"CAPTCHAS/\"\n",
    "DIR = \"CAPTCHAS_final/\"\n",
    "for category in CATEGORIES:\n",
    "    path = os.path.join(DATADIR, category)\n",
    "    for img in os.listdir(path):\n",
    "        a = cut_border(os.path.join(path,img), img)"
   ]
  },
  {
   "cell_type": "code",
   "execution_count": null,
   "metadata": {},
   "outputs": [],
   "source": []
  }
 ],
 "metadata": {
  "kernelspec": {
   "display_name": "Python 3",
   "language": "python",
   "name": "python3"
  },
  "language_info": {
   "codemirror_mode": {
    "name": "ipython",
    "version": 3
   },
   "file_extension": ".py",
   "mimetype": "text/x-python",
   "name": "python",
   "nbconvert_exporter": "python",
   "pygments_lexer": "ipython3",
   "version": "3.6.5"
  }
 },
 "nbformat": 4,
 "nbformat_minor": 2
}
