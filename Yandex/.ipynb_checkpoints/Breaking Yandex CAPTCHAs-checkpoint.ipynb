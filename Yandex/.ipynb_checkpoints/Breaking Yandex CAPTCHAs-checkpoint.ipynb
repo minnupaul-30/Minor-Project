{
 "cells": [
  {
   "cell_type": "code",
   "execution_count": null,
   "metadata": {
    "scrolled": true
   },
   "outputs": [
    {
     "name": "stdout",
     "output_type": "stream",
     "text": [
      "importing Jupyter notebook from preds.ipynb\n",
      "importing Jupyter notebook from Captcha_seg.ipynb\n",
      "1080\n"
     ]
    },
    {
     "name": "stderr",
     "output_type": "stream",
     "text": [
      "/home/bg/anaconda3/lib/python3.6/site-packages/h5py/__init__.py:36: FutureWarning: Conversion of the second argument of issubdtype from `float` to `np.floating` is deprecated. In future, it will be treated as `np.float64 == np.dtype(float).type`.\n",
      "  from ._conv import register_converters as _register_converters\n",
      "Using TensorFlow backend.\n"
     ]
    },
    {
     "name": "stdout",
     "output_type": "stream",
     "text": [
      "Train on 864 samples, validate on 216 samples\n",
      "Epoch 1/20\n",
      "864/864 [==============================] - 7s 8ms/step - loss: 3.5877 - acc: 0.0289 - val_loss: 3.5654 - val_acc: 0.0417\n",
      "Epoch 2/20\n",
      "864/864 [==============================] - 7s 8ms/step - loss: 3.4413 - acc: 0.0602 - val_loss: 3.2345 - val_acc: 0.1111\n",
      "Epoch 3/20\n",
      "864/864 [==============================] - 6s 7ms/step - loss: 2.6993 - acc: 0.2546 - val_loss: 2.5140 - val_acc: 0.2778\n",
      "Epoch 4/20\n",
      "864/864 [==============================] - 6s 7ms/step - loss: 1.7935 - acc: 0.4850 - val_loss: 1.9178 - val_acc: 0.4676\n",
      "Epoch 5/20\n",
      "864/864 [==============================] - 6s 7ms/step - loss: 1.1968 - acc: 0.6424 - val_loss: 1.7388 - val_acc: 0.5046\n",
      "Epoch 6/20\n",
      "864/864 [==============================] - 6s 7ms/step - loss: 0.8127 - acc: 0.7546 - val_loss: 1.6452 - val_acc: 0.5463\n",
      "Epoch 7/20\n",
      "864/864 [==============================] - 6s 7ms/step - loss: 0.5495 - acc: 0.8356 - val_loss: 1.6713 - val_acc: 0.5463\n",
      "Epoch 8/20\n",
      "864/864 [==============================] - 6s 7ms/step - loss: 0.4015 - acc: 0.8692 - val_loss: 1.6727 - val_acc: 0.5972\n",
      "Epoch 9/20\n",
      "864/864 [==============================] - 6s 7ms/step - loss: 0.2432 - acc: 0.9294 - val_loss: 1.6373 - val_acc: 0.6667\n",
      "Epoch 10/20\n",
      "864/864 [==============================] - 6s 7ms/step - loss: 0.1319 - acc: 0.9606 - val_loss: 1.7055 - val_acc: 0.6111\n",
      "Epoch 11/20\n",
      "864/864 [==============================] - 6s 7ms/step - loss: 0.1335 - acc: 0.9711 - val_loss: 1.9045 - val_acc: 0.6713\n",
      "Epoch 12/20\n",
      "864/864 [==============================] - 6s 7ms/step - loss: 0.0910 - acc: 0.9722 - val_loss: 1.9714 - val_acc: 0.6620\n",
      "Epoch 13/20\n",
      "864/864 [==============================] - 6s 7ms/step - loss: 0.1072 - acc: 0.9780 - val_loss: 1.9144 - val_acc: 0.6111\n",
      "Epoch 14/20\n",
      "864/864 [==============================] - 6s 7ms/step - loss: 0.0300 - acc: 0.9907 - val_loss: 1.9987 - val_acc: 0.6435\n",
      "Epoch 15/20\n",
      "864/864 [==============================] - 6s 7ms/step - loss: 0.0316 - acc: 0.9907 - val_loss: 2.0639 - val_acc: 0.6343\n",
      "Epoch 16/20\n",
      "740/864 [========================>.....] - ETA: 0s - loss: 0.0432 - acc: 0.9946"
     ]
    }
   ],
   "source": [
    "import numpy as np\n",
    "import matplotlib.pyplot as plt\n",
    "import os\n",
    "import cv2\n",
    "import import_ipynb\n",
    "#import Segmentation\n",
    "import time\n",
    "import preds"
   ]
  },
  {
   "cell_type": "code",
   "execution_count": null,
   "metadata": {},
   "outputs": [],
   "source": [
    "CATEGORIES = set()\n",
    "names =[]\n",
    "for i in os.listdir('test/'):\n",
    "    names.append(i.split('.')[0])\n",
    "for i in names:\n",
    "    for x in list(i):\n",
    "        CATEGORIES.add(x)\n",
    "CATEGORIES=list(CATEGORIES)\n",
    "print(CATEGORIES)"
   ]
  },
  {
   "cell_type": "code",
   "execution_count": null,
   "metadata": {},
   "outputs": [],
   "source": [
    "#print(len(train_data))"
   ]
  },
  {
   "cell_type": "code",
   "execution_count": null,
   "metadata": {},
   "outputs": [],
   "source": [
    "import random\n",
    "\n",
    "#random.shuffle(train_data)"
   ]
  },
  {
   "cell_type": "code",
   "execution_count": null,
   "metadata": {},
   "outputs": [],
   "source": [
    "#for sample in train_data[:10]:\n",
    "#    print(sample[1])"
   ]
  },
  {
   "cell_type": "code",
   "execution_count": null,
   "metadata": {},
   "outputs": [],
   "source": [
    "X = []\n",
    "y = []"
   ]
  },
  {
   "cell_type": "markdown",
   "metadata": {},
   "source": [
    "for features, label in train_data:\n",
    "    X.append(features)\n",
    "    y.append(label)\n",
    "    \n",
    "X = np.array(X).reshape(-1, IMG_SIZE, IMG_SIZE, 1)"
   ]
  },
  {
   "cell_type": "markdown",
   "metadata": {},
   "source": [
    "import pickle\n",
    "\n",
    "pickle_out = open(\"X.pickle\", \"wb\")\n",
    "pickle.dump(X, pickle_out)\n",
    "pickle_out.close()\n",
    "pickle_out = open(\"y.pickle\", \"wb\")\n",
    "pickle.dump(y, pickle_out)\n",
    "pickle_out.close()"
   ]
  },
  {
   "cell_type": "markdown",
   "metadata": {},
   "source": [
    "pickle_in= open(\"X.pickle\", \"rb\")\n",
    "X = pickle.load(pickle_in)\n",
    "X.shape[1:]"
   ]
  },
  {
   "cell_type": "markdown",
   "metadata": {
    "scrolled": false
   },
   "source": [
    "import tensorflow as tf\n",
    "from keras.models import Sequential\n",
    "from keras.layers import Dense, Dropout,Activation, Flatten, Conv2D, MaxPooling2D\n",
    "\n",
    "X = pickle.load(open(\"X.pickle\",\"rb\"))\n",
    "y = pickle.load(open(\"y.pickle\",\"rb\"))\n",
    "\n",
    "X = X/255.0\n",
    "\n",
    "model = Sequential()\n",
    "\n",
    "model.add(Conv2D(64,(3,3),input_shape= X.shape[1:]))\n",
    "model.add(Activation(\"relu\"))\n",
    "model.add(MaxPooling2D(pool_size=(2,2)))\n",
    "\n",
    "model.add(Conv2D(64,(3,3)))\n",
    "model.add(Activation(\"relu\"))\n",
    "model.add(MaxPooling2D(pool_size=(2,2)))\n",
    "\n",
    "model.add(Conv2D(64,(3,3)))\n",
    "model.add(Activation(\"relu\"))\n",
    "model.add(MaxPooling2D(pool_size=(2,2)))\n",
    "\n",
    "model.add(Flatten())\n",
    "model.add(Dense(64))\n",
    "model.add(Activation(\"relu\"))\n",
    "\n",
    "\n",
    "model.add(Dense(19))\n",
    "model.add(Activation(\"softmax\"))\n",
    "\n",
    "from keras.utils import to_categorical\n",
    "y_binary = to_categorical(y)\n",
    "\n",
    "model.compile(loss=\"categorical_crossentropy\",\n",
    "             optimizer=\"adam\",\n",
    "             metrics=['accuracy'])\n",
    "\n",
    "model.fit(X,y_binary,batch_size=128, epochs=20, validation_split = 0.2)\n"
   ]
  },
  {
   "cell_type": "code",
   "execution_count": null,
   "metadata": {
    "scrolled": true
   },
   "outputs": [],
   "source": [
    "#loss_value, metrics_value = model.evaluate(X,y_binary,batch_size=10)"
   ]
  },
  {
   "cell_type": "code",
   "execution_count": null,
   "metadata": {},
   "outputs": [],
   "source": [
    "#print(loss_value, metrics_value)"
   ]
  },
  {
   "cell_type": "code",
   "execution_count": null,
   "metadata": {},
   "outputs": [],
   "source": [
    "import random"
   ]
  },
  {
   "cell_type": "code",
   "execution_count": null,
   "metadata": {
    "scrolled": true
   },
   "outputs": [],
   "source": [
    "def similarity(a,b):\n",
    "    i =0\n",
    "    for x,y in zip(a,b):\n",
    "        if x==y:\n",
    "            i+= 1\n",
    "    percentage = (i/5) * 100\n",
    "    return percentage\n",
    "\n",
    "def prepare(filepath):\n",
    "    IMG_SIZE = 50\n",
    "    img_array = cv2.imread(filepath, cv2.IMREAD_GRAYSCALE)\n",
    "    new_array = cv2.resize(img_array, (IMG_SIZE,IMG_SIZE))\n",
    "    #plt.imshow(new_array,'gray')\n",
    "    return new_array.reshape(-1, IMG_SIZE,IMG_SIZE,1)\n",
    "\n",
    "total_time = 0\n",
    "score = 0\n",
    "count = 0\n",
    "done = []\n",
    "list_ = preds.predictions('test',CATEGORIES)\n",
    "CAPTCHA_DIR = list_[0]\n",
    "for x in CAPTCHA_DIR:\n",
    "    captchas = random.choice(CAPTCHA_DIR)\n",
    "    if captchas in done:\n",
    "        continue\n",
    "    else:\n",
    "        done.append(captchas)\n",
    "        start_time = time.time()\n",
    "        predict_list= []\n",
    "        print('\\n')\n",
    "        print('Actual: ',captchas[0][0])\n",
    "\n",
    "        files = []\n",
    "        for segments in list_:\n",
    "            files.append(segments)\n",
    "\n",
    "        #for segments in files:\n",
    "        #    filepath = (SEGMENTS_DIR,segments)\n",
    "        #    prediction = model.predict([prepare(filepath)])\n",
    "        #    predict_list.append(CATEGORIES[np.argmax(prediction[0])])\n",
    "\n",
    "        elapsed_time = time.time()-start_time\n",
    "        time.sleep(captchas[1])\n",
    "        total_time += elapsed_time\n",
    "        final_prediction = ''.join(predict_list)\n",
    "        #if captcha_name[0]== final_prediction:\n",
    "        #    score +=1\n",
    "        score = list_[1]\n",
    "        print('Predicted:',captchas[0][1],'\\n')\n",
    "        print('Elapsed time= ',captchas[1],'s')\n",
    "        total_time +=captchas[1]\n",
    "        print('<------------------------------->')    \n",
    "    \n",
    "\n",
    "print('Total number of CAPTCHAS broken: ',score)    \n",
    "print('Total number of CAPTCHAS attempted: ',len(list_[0]))\n",
    "print('Total time taken= ',total_time,'s')\n",
    "print('Accuracy= ', (score/len(list_[0])*100))\n",
    "#model = tf.keras.models.load_model('captcha_alpha.model')\n",
    "#prediction = model.predict([prepare('3.png')])\n",
    "#print(len(prediction[0]))\n",
    "#print(prediction[0])\n",
    "#print(CATEGORIES[np.argmax(prediction[0])])"
   ]
  },
  {
   "cell_type": "code",
   "execution_count": null,
   "metadata": {},
   "outputs": [],
   "source": []
  }
 ],
 "metadata": {
  "kernelspec": {
   "display_name": "Python 3",
   "language": "python",
   "name": "python3"
  },
  "language_info": {
   "codemirror_mode": {
    "name": "ipython",
    "version": 3
   },
   "file_extension": ".py",
   "mimetype": "text/x-python",
   "name": "python",
   "nbconvert_exporter": "python",
   "pygments_lexer": "ipython3",
   "version": "3.6.5"
  }
 },
 "nbformat": 4,
 "nbformat_minor": 2
}
