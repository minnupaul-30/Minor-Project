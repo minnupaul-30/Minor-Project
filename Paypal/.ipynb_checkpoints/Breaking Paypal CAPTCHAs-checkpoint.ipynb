{
 "cells": [
  {
   "cell_type": "code",
   "execution_count": 1,
   "metadata": {
    "scrolled": true
   },
   "outputs": [
    {
     "name": "stdout",
     "output_type": "stream",
     "text": [
      "importing Jupyter notebook from preds.ipynb\n",
      "importing Jupyter notebook from Captcha_seg.ipynb\n",
      "1080\n"
     ]
    },
    {
     "name": "stderr",
     "output_type": "stream",
     "text": [
      "/home/bg/anaconda3/lib/python3.6/site-packages/h5py/__init__.py:36: FutureWarning: Conversion of the second argument of issubdtype from `float` to `np.floating` is deprecated. In future, it will be treated as `np.float64 == np.dtype(float).type`.\n",
      "  from ._conv import register_converters as _register_converters\n",
      "Using TensorFlow backend.\n"
     ]
    },
    {
     "name": "stdout",
     "output_type": "stream",
     "text": [
      "Train on 864 samples, validate on 216 samples\n",
      "Epoch 1/20\n",
      "864/864 [==============================] - 6s 7ms/step - loss: 3.5854 - acc: 0.0243 - val_loss: 3.5711 - val_acc: 0.0370\n",
      "Epoch 2/20\n",
      "864/864 [==============================] - 6s 7ms/step - loss: 3.4466 - acc: 0.0752 - val_loss: 3.1921 - val_acc: 0.1157\n",
      "Epoch 3/20\n",
      "864/864 [==============================] - 6s 7ms/step - loss: 2.7821 - acc: 0.2269 - val_loss: 2.4889 - val_acc: 0.3241\n",
      "Epoch 4/20\n",
      "864/864 [==============================] - 6s 7ms/step - loss: 1.9428 - acc: 0.4271 - val_loss: 2.0486 - val_acc: 0.4213\n",
      "Epoch 5/20\n",
      "864/864 [==============================] - 6s 7ms/step - loss: 1.3881 - acc: 0.5787 - val_loss: 1.8448 - val_acc: 0.4861\n",
      "Epoch 6/20\n",
      "864/864 [==============================] - 6s 7ms/step - loss: 1.0290 - acc: 0.6887 - val_loss: 1.6856 - val_acc: 0.5185\n",
      "Epoch 7/20\n",
      "864/864 [==============================] - 6s 7ms/step - loss: 0.7285 - acc: 0.7801 - val_loss: 1.5688 - val_acc: 0.5972\n",
      "Epoch 8/20\n",
      "864/864 [==============================] - 6s 7ms/step - loss: 0.5076 - acc: 0.8426 - val_loss: 1.7615 - val_acc: 0.5231\n",
      "Epoch 9/20\n",
      "864/864 [==============================] - 6s 7ms/step - loss: 0.3707 - acc: 0.8877 - val_loss: 1.6540 - val_acc: 0.6019\n",
      "Epoch 10/20\n",
      "864/864 [==============================] - 6s 7ms/step - loss: 0.2674 - acc: 0.9155 - val_loss: 2.1938 - val_acc: 0.5509\n",
      "Epoch 11/20\n",
      "864/864 [==============================] - 6s 7ms/step - loss: 0.1909 - acc: 0.9479 - val_loss: 2.3322 - val_acc: 0.5324\n",
      "Epoch 12/20\n",
      "864/864 [==============================] - 6s 7ms/step - loss: 0.1781 - acc: 0.9444 - val_loss: 1.7749 - val_acc: 0.5972\n",
      "Epoch 13/20\n",
      "864/864 [==============================] - 6s 7ms/step - loss: 0.0845 - acc: 0.9826 - val_loss: 1.9206 - val_acc: 0.6250\n",
      "Epoch 14/20\n",
      "864/864 [==============================] - 6s 7ms/step - loss: 0.0402 - acc: 0.9931 - val_loss: 2.1952 - val_acc: 0.5880\n",
      "Epoch 15/20\n",
      "864/864 [==============================] - 6s 7ms/step - loss: 0.0403 - acc: 0.9907 - val_loss: 2.0292 - val_acc: 0.6157\n",
      "Epoch 16/20\n",
      "864/864 [==============================] - 6s 7ms/step - loss: 0.0220 - acc: 0.9977 - val_loss: 2.4080 - val_acc: 0.5787\n",
      "Epoch 17/20\n",
      "864/864 [==============================] - 6s 7ms/step - loss: 0.0358 - acc: 0.9965 - val_loss: 2.2198 - val_acc: 0.5833\n",
      "Epoch 18/20\n",
      "864/864 [==============================] - 6s 7ms/step - loss: 0.0555 - acc: 0.9873 - val_loss: 2.9387 - val_acc: 0.4907\n",
      "Epoch 19/20\n",
      "864/864 [==============================] - 6s 7ms/step - loss: 0.1953 - acc: 0.9340 - val_loss: 2.5785 - val_acc: 0.5787\n",
      "Epoch 20/20\n",
      "864/864 [==============================] - 6s 7ms/step - loss: 0.1185 - acc: 0.9664 - val_loss: 2.5641 - val_acc: 0.5694\n"
     ]
    }
   ],
   "source": [
    "import numpy as np\n",
    "import matplotlib.pyplot as plt\n",
    "import os\n",
    "import cv2\n",
    "import import_ipynb\n",
    "#import Segmentation\n",
    "import time\n",
    "import preds"
   ]
  },
  {
   "cell_type": "code",
   "execution_count": 2,
   "metadata": {},
   "outputs": [
    {
     "name": "stdout",
     "output_type": "stream",
     "text": [
      "['l', '8', 'g', 'd', 'v', 't', 'h', 'a', '2', 'u', '6', 'm', 'c', 'b', 'e', 'k', '5', 'f', 'z', 'w', 's', 'y', '4', 'x', 'p', 'r', 'j', '9', 'n', '7', '3']\n"
     ]
    }
   ],
   "source": [
    "CATEGORIES = set()\n",
    "names =[]\n",
    "for i in os.listdir('test/'):\n",
    "    names.append(i.split('.')[0])\n",
    "for i in names:\n",
    "    for x in list(i):\n",
    "        CATEGORIES.add(x)\n",
    "CATEGORIES=list(CATEGORIES)\n",
    "print(CATEGORIES)"
   ]
  },
  {
   "cell_type": "code",
   "execution_count": 3,
   "metadata": {},
   "outputs": [],
   "source": [
    "#print(len(train_data))"
   ]
  },
  {
   "cell_type": "code",
   "execution_count": 4,
   "metadata": {},
   "outputs": [],
   "source": [
    "import random\n",
    "\n",
    "#random.shuffle(train_data)"
   ]
  },
  {
   "cell_type": "code",
   "execution_count": 5,
   "metadata": {},
   "outputs": [],
   "source": [
    "#for sample in train_data[:10]:\n",
    "#    print(sample[1])"
   ]
  },
  {
   "cell_type": "code",
   "execution_count": 6,
   "metadata": {},
   "outputs": [],
   "source": [
    "X = []\n",
    "y = []"
   ]
  },
  {
   "cell_type": "markdown",
   "metadata": {},
   "source": [
    "for features, label in train_data:\n",
    "    X.append(features)\n",
    "    y.append(label)\n",
    "    \n",
    "X = np.array(X).reshape(-1, IMG_SIZE, IMG_SIZE, 1)"
   ]
  },
  {
   "cell_type": "markdown",
   "metadata": {},
   "source": [
    "import pickle\n",
    "\n",
    "pickle_out = open(\"X.pickle\", \"wb\")\n",
    "pickle.dump(X, pickle_out)\n",
    "pickle_out.close()\n",
    "pickle_out = open(\"y.pickle\", \"wb\")\n",
    "pickle.dump(y, pickle_out)\n",
    "pickle_out.close()"
   ]
  },
  {
   "cell_type": "markdown",
   "metadata": {},
   "source": [
    "pickle_in= open(\"X.pickle\", \"rb\")\n",
    "X = pickle.load(pickle_in)\n",
    "X.shape[1:]"
   ]
  },
  {
   "cell_type": "markdown",
   "metadata": {
    "scrolled": false
   },
   "source": [
    "import tensorflow as tf\n",
    "from keras.models import Sequential\n",
    "from keras.layers import Dense, Dropout,Activation, Flatten, Conv2D, MaxPooling2D\n",
    "\n",
    "X = pickle.load(open(\"X.pickle\",\"rb\"))\n",
    "y = pickle.load(open(\"y.pickle\",\"rb\"))\n",
    "\n",
    "X = X/255.0\n",
    "\n",
    "model = Sequential()\n",
    "\n",
    "model.add(Conv2D(64,(3,3),input_shape= X.shape[1:]))\n",
    "model.add(Activation(\"relu\"))\n",
    "model.add(MaxPooling2D(pool_size=(2,2)))\n",
    "\n",
    "model.add(Conv2D(64,(3,3)))\n",
    "model.add(Activation(\"relu\"))\n",
    "model.add(MaxPooling2D(pool_size=(2,2)))\n",
    "\n",
    "model.add(Conv2D(64,(3,3)))\n",
    "model.add(Activation(\"relu\"))\n",
    "model.add(MaxPooling2D(pool_size=(2,2)))\n",
    "\n",
    "model.add(Flatten())\n",
    "model.add(Dense(64))\n",
    "model.add(Activation(\"relu\"))\n",
    "\n",
    "\n",
    "model.add(Dense(19))\n",
    "model.add(Activation(\"softmax\"))\n",
    "\n",
    "from keras.utils import to_categorical\n",
    "y_binary = to_categorical(y)\n",
    "\n",
    "model.compile(loss=\"categorical_crossentropy\",\n",
    "             optimizer=\"adam\",\n",
    "             metrics=['accuracy'])\n",
    "\n",
    "model.fit(X,y_binary,batch_size=128, epochs=20, validation_split = 0.2)\n"
   ]
  },
  {
   "cell_type": "code",
   "execution_count": 7,
   "metadata": {
    "scrolled": true
   },
   "outputs": [],
   "source": [
    "#loss_value, metrics_value = model.evaluate(X,y_binary,batch_size=10)"
   ]
  },
  {
   "cell_type": "code",
   "execution_count": 8,
   "metadata": {},
   "outputs": [],
   "source": [
    "#print(loss_value, metrics_value)"
   ]
  },
  {
   "cell_type": "code",
   "execution_count": 9,
   "metadata": {},
   "outputs": [],
   "source": [
    "import random"
   ]
  },
  {
   "cell_type": "code",
   "execution_count": 10,
   "metadata": {
    "scrolled": true
   },
   "outputs": [
    {
     "ename": "FileNotFoundError",
     "evalue": "[Errno 2] No such file or directory: 'testing'",
     "output_type": "error",
     "traceback": [
      "\u001b[0;31m---------------------------------------------------------------------------\u001b[0m",
      "\u001b[0;31mFileNotFoundError\u001b[0m                         Traceback (most recent call last)",
      "\u001b[0;32m<ipython-input-10-d10e4f24a9ed>\u001b[0m in \u001b[0;36m<module>\u001b[0;34m()\u001b[0m\n\u001b[1;32m     18\u001b[0m \u001b[0mcount\u001b[0m \u001b[0;34m=\u001b[0m \u001b[0;36m0\u001b[0m\u001b[0;34m\u001b[0m\u001b[0m\n\u001b[1;32m     19\u001b[0m \u001b[0mdone\u001b[0m \u001b[0;34m=\u001b[0m \u001b[0;34m[\u001b[0m\u001b[0;34m]\u001b[0m\u001b[0;34m\u001b[0m\u001b[0m\n\u001b[0;32m---> 20\u001b[0;31m \u001b[0mlist_\u001b[0m \u001b[0;34m=\u001b[0m \u001b[0mpreds\u001b[0m\u001b[0;34m.\u001b[0m\u001b[0mpredictions\u001b[0m\u001b[0;34m(\u001b[0m\u001b[0;34m'testing'\u001b[0m\u001b[0;34m,\u001b[0m\u001b[0mCATEGORIES\u001b[0m\u001b[0;34m)\u001b[0m\u001b[0;34m\u001b[0m\u001b[0m\n\u001b[0m\u001b[1;32m     21\u001b[0m \u001b[0mCAPTCHA_DIR\u001b[0m \u001b[0;34m=\u001b[0m \u001b[0mlist_\u001b[0m\u001b[0;34m[\u001b[0m\u001b[0;36m0\u001b[0m\u001b[0;34m]\u001b[0m\u001b[0;34m\u001b[0m\u001b[0m\n\u001b[1;32m     22\u001b[0m \u001b[0;32mfor\u001b[0m \u001b[0mx\u001b[0m \u001b[0;32min\u001b[0m \u001b[0mCAPTCHA_DIR\u001b[0m\u001b[0;34m:\u001b[0m\u001b[0;34m\u001b[0m\u001b[0m\n",
      "\u001b[0;32m~/Jupyter/sturdy-octo-pancake/Final Model/Kallams/Final Kallams/Paypal/preds.ipynb\u001b[0m in \u001b[0;36mpredictions\u001b[0;34m(captchadir, CATEGORIES)\u001b[0m\n",
      "\u001b[0;31mFileNotFoundError\u001b[0m: [Errno 2] No such file or directory: 'testing'"
     ]
    }
   ],
   "source": [
    "def similarity(a,b):\n",
    "    i =0\n",
    "    for x,y in zip(a,b):\n",
    "        if x==y:\n",
    "            i+= 1\n",
    "    percentage = (i/5) * 100\n",
    "    return percentage\n",
    "\n",
    "def prepare(filepath):\n",
    "    IMG_SIZE = 50\n",
    "    img_array = cv2.imread(filepath, cv2.IMREAD_GRAYSCALE)\n",
    "    new_array = cv2.resize(img_array, (IMG_SIZE,IMG_SIZE))\n",
    "    #plt.imshow(new_array,'gray')\n",
    "    return new_array.reshape(-1, IMG_SIZE,IMG_SIZE,1)\n",
    "\n",
    "total_time = 0\n",
    "score = 0\n",
    "count = 0\n",
    "done = []\n",
    "list_ = preds.predictions('test',CATEGORIES)\n",
    "CAPTCHA_DIR = list_[0]\n",
    "for x in CAPTCHA_DIR:\n",
    "    captchas = random.choice(CAPTCHA_DIR)\n",
    "    if captchas in done:\n",
    "        continue\n",
    "    else:\n",
    "        done.append(captchas)\n",
    "        start_time = time.time()\n",
    "        predict_list= []\n",
    "        print('\\n')\n",
    "        print('Actual: ',captchas[0][0])\n",
    "\n",
    "        files = []\n",
    "        for segments in list_:\n",
    "            files.append(segments)\n",
    "\n",
    "        #for segments in files:\n",
    "        #    filepath = (SEGMENTS_DIR,segments)\n",
    "        #    prediction = model.predict([prepare(filepath)])\n",
    "        #    predict_list.append(CATEGORIES[np.argmax(prediction[0])])\n",
    "\n",
    "        elapsed_time = time.time()-start_time\n",
    "        time.sleep(captchas[1])\n",
    "        total_time += elapsed_time\n",
    "        final_prediction = ''.join(predict_list)\n",
    "        #if captcha_name[0]== final_prediction:\n",
    "        #    score +=1\n",
    "        score = list_[1]\n",
    "        print('Predicted:',captchas[0][1],'\\n')\n",
    "        print('Elapsed time= ',captchas[1],'s')\n",
    "        total_time +=captchas[1]\n",
    "        print('<------------------------------->')    \n",
    "    \n",
    "\n",
    "print('Total number of CAPTCHAS broken: ',score)    \n",
    "print('Total number of CAPTCHAS attempted: ',len(list_[0]))\n",
    "print('Total time taken= ',total_time,'s')\n",
    "print('Accuracy= ', (score/len(list_[0])*100))\n",
    "#model = tf.keras.models.load_model('captcha_alpha.model')\n",
    "#prediction = model.predict([prepare('3.png')])\n",
    "#print(len(prediction[0]))\n",
    "#print(prediction[0])\n",
    "#print(CATEGORIES[np.argmax(prediction[0])])"
   ]
  },
  {
   "cell_type": "code",
   "execution_count": null,
   "metadata": {},
   "outputs": [],
   "source": []
  }
 ],
 "metadata": {
  "kernelspec": {
   "display_name": "Python 3",
   "language": "python",
   "name": "python3"
  },
  "language_info": {
   "codemirror_mode": {
    "name": "ipython",
    "version": 3
   },
   "file_extension": ".py",
   "mimetype": "text/x-python",
   "name": "python",
   "nbconvert_exporter": "python",
   "pygments_lexer": "ipython3",
   "version": "3.6.5"
  }
 },
 "nbformat": 4,
 "nbformat_minor": 2
}
